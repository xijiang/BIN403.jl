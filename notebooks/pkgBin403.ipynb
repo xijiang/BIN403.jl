{
 "cells": [
  {
   "cell_type": "markdown",
   "id": "extensive-person",
   "metadata": {},
   "source": [
    "# How to develop a package\n",
    "\n",
    "There are a few ways to create and develop a Julia package. Below is one of them, which I use.\n",
    "\n",
    "## GitHub\n",
    "\n",
    "You'd better to have a github account for \n",
    "\n",
    "- ease to share your package.\n",
    "- codes safty. Cloud storage is not easy to lose.\n",
    "- collaboration with your colleagues.\n",
    "\n",
    "If you have an account there already , you can just sign in. Or you can sign up GitHub. \n",
    "\n",
    "After you logged on GitHub, click new in your homepage. In the next page,\n",
    "1. choose a reposity name, e.g., `Bin403.jl`\n",
    "2. add some description\n",
    "3. select `public`, or `private`. If you want to share your package globally, choose `public`.\n",
    "4. add a `README` file. This will be the first page of your newly created package. It is markdown.\n",
    "5. add `.gitignore`. Choose a `.gitignore` of Julia.\n",
    "6. add a license. I usually use a MIT license."
   ]
  },
  {
   "cell_type": "markdown",
   "id": "gothic-trade",
   "metadata": {},
   "source": [
    "## Local repo\n",
    "\n",
    "The local repo can be in `~/.julia/packages`, or in another directory you specified, e.g., `~/Music/packages`. I prefer the later. The reason is that when the packages you are using are messy, you can delete `~/.julia` entirely. It would not be pleasant if you are developing codes there.\n",
    "\n",
    "In a terminal, or WSL (Windows Subsystem for Linux), goto the directory where you want to host your package to be developed. Thenrun `julia` to enter julia REPL (read-eval-print loop):\n",
    "```julia\n",
    "] # to enter the julia package environment\n",
    "generate BIN403 # the package you are using now\n",
    "^D # that is, <ctrl> + d to exit julia REPL.\n",
    "```\n",
    "Then\n",
    "```bash\n",
    "cd BIN403\n",
    "git init  # probably your first git command, this is to make the current directory as a git repo\n",
    "git add Project.toml src/BIN403.jl\n",
    "git commit -am 'init' # your first commit. added two files into the local repo.\n",
    "git remote add origin git@github.com:xijiang/BIN403.jl # set your remote repo\n",
    "git config pull.rebase true\n",
    "git pull origin main # you pull .gitignore, LICENSE, README.md from github to local.\n",
    "```"
   ]
  },
  {
   "cell_type": "markdown",
   "id": "loaded-google",
   "metadata": {},
   "source": [
    "## Add a function to `BIN403`\n",
    "There is already a function called `greet` in `BIN403/src/BIN403.jl`. We will remove it. Instead will add other packages and a recursive kinship calculation function here.\n",
    "\n",
    "We will modify 3 files here. The first one is `BIN403/Project.toml`. We change the version from `0.1.0` to `0.1.1`. The version number is of pattern `major-sub-minor`. We deem this function as a minor change.\n",
    "\n",
    "We then create a file `BIN403/src/kinship.jl`. It contents is as below:\n",
    "```julia\n",
    "\"\"\"\n",
    "    function kinship(ped, i, j)\n",
    "---\n",
    "This function is handy if just to calculate relationship of a few (pairs of) ID.\n",
    "It can also speed up by adding `Thread.@threads` before your pair loop.\n",
    "\"\"\"\n",
    "function kinship(ped, i, j)\n",
    "    (i == 0 || j == 0) && return 0\n",
    "    ipa, ima = ped[i, :]          # used both for below and the last\n",
    "    i == j && (return 1 + .5kinship(ped, ipa, ima))\n",
    "    if i < j\n",
    "        jpa, jma = ped[j, :]\n",
    "        return .5(kinship(ped, i, jpa) + kinship(ped, i, jma))\n",
    "    end\n",
    "    return .5(kinship(ped, j, ipa) + kinship(ped, j, ima))\n",
    "end\n",
    "```\n",
    "\n",
    "The last file to modify is `BIN403/src/BIN403.jl`. We delete the line for `greet` function, and replace it with \n",
    "```julia\n",
    "include(\"kinship.jl\")\n",
    "```\n",
    "Now our package `BIN403` with a function `kinship` is almost ready:\n",
    "\n",
    "```bash\n",
    "git commit -am 'kinship' # that what we added\n",
    "git push origin main # now GitHub has a copy of your code\n",
    "```\n",
    "Everybody who has now access to GitHub can now use your `kinship` function of your `BIN403` package."
   ]
  },
  {
   "cell_type": "markdown",
   "id": "sapphire-provincial",
   "metadata": {},
   "source": [
    "## How others to use the function\n",
    "First, they need to install this package. n a Julia REPL:\n",
    "```julia\n",
    "] # to enter package environment\n",
    "add https://github.com/xijiang/BIN403.jl\n",
    "<backspace> # to return to REPL\n",
    "using BIN403\n",
    "```\n",
    "By the way you use the package `BIN403` above, you have to specify the package name of the function, i.e.:\n",
    "```julia\n",
    "BIN403.kinship(ped, 1, 2) # to calculate relationship 1 and 2 in the pedigree ped.\n",
    "```\n",
    "\n",
    "To omit `BIN403.` every time you run the `kinship` function, you can either do this by design. That is to `export` this function in your `BIN403` package, or, `import` the function on the client side:\n",
    "\n",
    "```julia\n",
    "import BIN403:kinship\n",
    "```\n",
    "\n",
    "Suppose we use the latter below. Let use the pedigree used by Henderson in his 1976 paper."
   ]
  },
  {
   "cell_type": "code",
   "execution_count": 2,
   "id": "ethical-electricity",
   "metadata": {},
   "outputs": [
    {
     "name": "stdout",
     "output_type": "stream",
     "text": [
      "A = [1.0 0.0 0.5 0.5 0.5 0.75 0.625; 0.0 1.0 0.0 0.5 0.25 0.25 0.25; 0.5 0.0 1.0 0.25 0.625 0.375 0.5; 0.5 0.5 0.25 1.0 0.625 0.75 0.6875; 0.5 0.25 0.625 0.625 1.125 0.5625 0.84375; 0.75 0.25 0.375 0.75 0.5625 1.25 0.90625; 0.625 0.25 0.5 0.6875 0.84375 0.90625 1.28125]\n"
     ]
    },
    {
     "data": {
      "text/plain": [
       "7×7 Matrix{Float64}:\n",
       " 1.0    0.0   0.5    0.5     0.5      0.75     0.625\n",
       " 0.0    1.0   0.0    0.5     0.25     0.25     0.25\n",
       " 0.5    0.0   1.0    0.25    0.625    0.375    0.5\n",
       " 0.5    0.5   0.25   1.0     0.625    0.75     0.6875\n",
       " 0.5    0.25  0.625  0.625   1.125    0.5625   0.84375\n",
       " 0.75   0.25  0.375  0.75    0.5625   1.25     0.90625\n",
       " 0.625  0.25  0.5    0.6875  0.84375  0.90625  1.28125"
      ]
     },
     "execution_count": 2,
     "metadata": {},
     "output_type": "execute_result"
    }
   ],
   "source": [
    "\"\"\"\n",
    "    function kinship(ped, i, j)\n",
    "---\n",
    "This function is handy if just to calculate relationship of a few (pairs of) ID.\n",
    "It can also speed up by adding `Thread.@threads` before your pair loop.\n",
    "\"\"\"\n",
    "function kinship(ped, i, j)\n",
    "    (i == 0 || j == 0) && return 0\n",
    "    ipa, ima = ped[i, :]          # used both for below and the last\n",
    "    i == j && (return 1 + .5kinship(ped, ipa, ima))\n",
    "    if i < j\n",
    "        jpa, jma = ped[j, :]\n",
    "        return .5(kinship(ped, i, jpa) + kinship(ped, i, jma))\n",
    "    end\n",
    "    return .5(kinship(ped, j, ipa) + kinship(ped, j, ima))\n",
    "end\n",
    "\n",
    "ped = [0 0\n",
    "    0 0\n",
    "    1 0\n",
    "    1 2\n",
    "    3 4\n",
    "    1 4\n",
    "    5 6]\n",
    "A = zeros(7, 7)\n",
    "for i in 1:7\n",
    "    for j in 1:i\n",
    "        A[i, j] = A[j, i] = kinship(ped, i, j)\n",
    "    end\n",
    "end\n",
    "@show A"
   ]
  },
  {
   "cell_type": "markdown",
   "id": "downtown-award",
   "metadata": {},
   "source": [
    "In the above cell, we actually used a local function `kinship`, as we haven't import the `BIN403` package. It is just for illustration. Package development is somewhat more advanced usage of Julia. It will, however, greatly ease you job later.\n",
    "\n",
    "As a developer, e.g., accumulate your codes for your own data, you might just run your codes with your local repo. Then you can navigate to your `BIN403` directory:\n",
    "```julia\n",
    "] # to enter pkg environment\n",
    "activate .\n",
    "<backspace> # to go back to REPL\n",
    "using Revise # an exerlent pkg I use everyday. It traces your pkg modification and update your pkg env.\n",
    "using BIN403\n",
    "# ped = something\n",
    "BIN403.kinship(ped, 5, 6)\n",
    "```"
   ]
  },
  {
   "cell_type": "markdown",
   "id": "assured-capitol",
   "metadata": {},
   "source": [
    "I have put 12 notebooks which were on juliabox.com, which is now closed down. To know more julia, I suggest to try those 12 notebooks one by one. Each will take 10-20 minutes. After that, you can start Julia programming with a much better background if you haven't programmed before."
   ]
  }
 ],
 "metadata": {
  "kernelspec": {
   "display_name": "Julia 1.8.0-DEV",
   "language": "julia",
   "name": "julia-1.8"
  },
  "language_info": {
   "file_extension": ".jl",
   "mimetype": "application/julia",
   "name": "julia",
   "version": "1.8.0"
  }
 },
 "nbformat": 4,
 "nbformat_minor": 5
}
