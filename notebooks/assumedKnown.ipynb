{
 "cells": [
  {
   "cell_type": "code",
   "execution_count": null,
   "id": "adequate-thirty",
   "metadata": {},
   "outputs": [],
   "source": [
    "# vector:"
   ]
  }
 ],
 "metadata": {
  "kernelspec": {
   "display_name": "Julia 1.8.0-DEV",
   "language": "julia",
   "name": "julia-1.8"
  },
  "language_info": {
   "file_extension": ".jl",
   "mimetype": "application/julia",
   "name": "julia",
   "version": "1.8.0"
  }
 },
 "nbformat": 4,
 "nbformat_minor": 5
}
