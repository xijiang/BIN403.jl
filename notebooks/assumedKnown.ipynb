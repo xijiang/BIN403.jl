{
 "cells": [
  {
   "cell_type": "markdown",
   "id": "recognized-whole",
   "metadata": {},
   "source": [
    "## An illustration of BLUP\n",
    "- Two full sibs in same environment\n",
    "- Known residual and additive genetic variances\n",
    "  - of trait to be observed: $r=8$, $g=2$\n",
    "- Mixed model: $\\mathbf{Y=Xb+Zu+e}$, with\n",
    "  - $\\mathbf{Z=I}$ (identity matrix)\n",
    "  - $\\mathbf{Y} = \\begin{bmatrix}.99\\\\-.99\\end{bmatrix}$"
   ]
  },
  {
   "cell_type": "code",
   "execution_count": 6,
   "id": "detected-lloyd",
   "metadata": {},
   "outputs": [],
   "source": [
    "using LinearAlgebra # to make life easier"
   ]
  },
  {
   "cell_type": "code",
   "execution_count": 1,
   "id": "adverse-ground",
   "metadata": {},
   "outputs": [
    {
     "data": {
      "text/plain": [
       "2-element Vector{Int64}:\n",
       " 1\n",
       " 1"
      ]
     },
     "execution_count": 1,
     "metadata": {},
     "output_type": "execute_result"
    }
   ],
   "source": [
    "X = [1., 1] # Julia column vector by default. Remember Julia index start from 1."
   ]
  },
  {
   "cell_type": "code",
   "execution_count": 3,
   "id": "sticky-elephant",
   "metadata": {},
   "outputs": [
    {
     "data": {
      "text/plain": [
       "2×2 Matrix{Float64}:\n",
       " 1.0  0.0\n",
       " 0.0  1.0"
      ]
     },
     "execution_count": 3,
     "metadata": {},
     "output_type": "execute_result"
    }
   ],
   "source": [
    "Z = [1 0\n",
    "     0 1.] # you just write a matrix as a matrix, Julia knows it. The last dot makes the matrix Float64"
   ]
  },
  {
   "cell_type": "code",
   "execution_count": 4,
   "id": "accepting-boost",
   "metadata": {},
   "outputs": [
    {
     "data": {
      "text/plain": [
       "2×2 Matrix{Float64}:\n",
       " 1.0  0.5\n",
       " 0.5  1.0"
      ]
     },
     "execution_count": 4,
     "metadata": {},
     "output_type": "execute_result"
    }
   ],
   "source": [
    "A = [1 .5\n",
    "    .5  1]"
   ]
  },
  {
   "cell_type": "code",
   "execution_count": 5,
   "id": "yellow-problem",
   "metadata": {},
   "outputs": [
    {
     "data": {
      "text/plain": [
       "(2.0, 8.0)"
      ]
     },
     "execution_count": 5,
     "metadata": {},
     "output_type": "execute_result"
    }
   ],
   "source": [
    "g, r = 2., 8.  # 2 and 8 will automatically assigned to g and r"
   ]
  },
  {
   "cell_type": "code",
   "execution_count": 7,
   "id": "broke-museum",
   "metadata": {},
   "outputs": [
    {
     "data": {
      "text/plain": [
       "2×2 Matrix{Float64}:\n",
       " 2.0  1.0\n",
       " 1.0  2.0"
      ]
     },
     "execution_count": 7,
     "metadata": {},
     "output_type": "execute_result"
    }
   ],
   "source": [
    "G = g .* A"
   ]
  },
  {
   "cell_type": "code",
   "execution_count": 8,
   "id": "inner-integral",
   "metadata": {},
   "outputs": [
    {
     "data": {
      "text/plain": [
       "UniformScaling{Float64}\n",
       "8.0*I"
      ]
     },
     "execution_count": 8,
     "metadata": {},
     "output_type": "execute_result"
    }
   ],
   "source": [
    "R = r * I  # I was defined in LinearAlgebra. Little footprint in memory"
   ]
  },
  {
   "cell_type": "code",
   "execution_count": 9,
   "id": "elementary-sodium",
   "metadata": {},
   "outputs": [
    {
     "data": {
      "text/plain": [
       "2-element Vector{Float64}:\n",
       "  0.99\n",
       " -0.99"
      ]
     },
     "execution_count": 9,
     "metadata": {},
     "output_type": "execute_result"
    }
   ],
   "source": [
    "y = [.99, -.99]"
   ]
  },
  {
   "cell_type": "code",
   "execution_count": 10,
   "id": "modified-nature",
   "metadata": {},
   "outputs": [
    {
     "data": {
      "text/plain": [
       "2×2 Matrix{Float64}:\n",
       " 10.0   1.0\n",
       "  1.0  10.0"
      ]
     },
     "execution_count": 10,
     "metadata": {},
     "output_type": "execute_result"
    }
   ],
   "source": [
    "V = Z * G * Z' + R"
   ]
  },
  {
   "cell_type": "code",
   "execution_count": 11,
   "id": "controversial-nitrogen",
   "metadata": {},
   "outputs": [
    {
     "data": {
      "text/plain": [
       "([0.6666666666666666 -0.3333333333333333; -0.3333333333333333 0.6666666666666666], UniformScaling{Float64}(0.125), [0.10101010101010102 -0.010101010101010102; -0.010101010101010102 0.10101010101010101])"
      ]
     },
     "execution_count": 11,
     "metadata": {},
     "output_type": "execute_result"
    }
   ],
   "source": [
    "Gⁱ, Rⁱ, Vⁱ = inv(G), inv(R), inv(V) # type G\\^i<tab> to have Gⁱ"
   ]
  },
  {
   "cell_type": "code",
   "execution_count": 12,
   "id": "champion-chocolate",
   "metadata": {},
   "outputs": [
    {
     "data": {
      "text/plain": [
       "2-element Vector{Float64}:\n",
       "  0.11000000000000001\n",
       " -0.10999999999999997"
      ]
     },
     "execution_count": 12,
     "metadata": {},
     "output_type": "execute_result"
    }
   ],
   "source": [
    "ebv₁ = zeros(2) + G * Vⁱ * y"
   ]
  },
  {
   "cell_type": "code",
   "execution_count": 13,
   "id": "growing-depression",
   "metadata": {},
   "outputs": [
    {
     "data": {
      "text/plain": [
       "3×3 Matrix{Float64}:\n",
       " 0.25    0.125      0.125\n",
       " 0.125   0.791667  -0.333333\n",
       " 0.125  -0.333333   0.791667"
      ]
     },
     "execution_count": 13,
     "metadata": {},
     "output_type": "execute_result"
    }
   ],
   "source": [
    "lhs = [X'Rⁱ * X X'Rⁱ * Z\n",
    "       Z'Rⁱ * X Z'Rⁱ * Z + Gⁱ]"
   ]
  },
  {
   "cell_type": "code",
   "execution_count": 14,
   "id": "manual-strain",
   "metadata": {},
   "outputs": [
    {
     "data": {
      "text/plain": [
       "3-element Vector{Float64}:\n",
       "  0.0\n",
       "  0.12375\n",
       " -0.12375"
      ]
     },
     "execution_count": 14,
     "metadata": {},
     "output_type": "execute_result"
    }
   ],
   "source": [
    "rhs = [X'Rⁱ * y\n",
    "       Z'Rⁱ * y]"
   ]
  },
  {
   "cell_type": "code",
   "execution_count": 15,
   "id": "chinese-resident",
   "metadata": {},
   "outputs": [
    {
     "data": {
      "text/plain": [
       "3-element Vector{Float64}:\n",
       "  1.3877787807814457e-17\n",
       "  0.11\n",
       " -0.11000000000000003"
      ]
     },
     "execution_count": 15,
     "metadata": {},
     "output_type": "execute_result"
    }
   ],
   "source": [
    "ebv₂ = lhs\\rhs"
   ]
  },
  {
   "cell_type": "markdown",
   "id": "related-disney",
   "metadata": {},
   "source": [
    "```julia\n",
    "# W01 Assumed known. \n",
    "# Exercise that may be calculated by hand ...\n",
    "# Two full sibs in same environment. \n",
    "# Known residual and additive genetic variances \n",
    "# of trait to be observed : r = 8, g = 2 .\n",
    "# Mixed Model :  Y = X b + Z U + e with \n",
    "# Z = I(denity), and observations taken as .99 \n",
    "# and -.99 to make calculation easier\n",
    "\n",
    "X =  [1 1]'\n",
    "Z = [1 0 ; 0 1]\n",
    "A = [1 0.5 ; 0.5 1]\n",
    "g = 2.0\n",
    "I = [1 0 ; 0 1]\n",
    "r = 8.0\n",
    "G = g * A\n",
    "R = r * I\n",
    "V = Z * G * Z' + R\n",
    "\n",
    "G_ = inv(G)\n",
    "R_ = inv(R)\n",
    "V_ = inv(V)\n",
    "\n",
    "y = [.99 -.99]'\n",
    "\n",
    "# Predicted breeding values (Karl Pearson regression) :\n",
    "EU_y = [0 0]'  + G * V_ * y\n",
    "\n",
    "# MME (Mixed Model Equation) :\n",
    "C_ = [X' * R_ * X   X' * R_ * Z ;\n",
    "      Z' * R_ * X   Z' * R_ * Z + G_ ]\n",
    "C = inv(C_)\n",
    "\n",
    "RHS = [X' * R_ * y ;\n",
    "       Z' * R_ * y ]\n",
    "\n",
    "# Fixed effect estimate and blup breeding values :\n",
    "U_blup = C * RHS\n",
    "\n",
    "####################################\n",
    "# One individual only\n",
    "G1 = g*A[1,1]\n",
    "R1 = r*1\n",
    "V1 = G1 + R1\n",
    "V1_ = inv(V1)\n",
    "y1 = 0.99\n",
    "# Predicted breeding value :\n",
    "EU1_y1 = 0  + G1 * V1_ * y1\n",
    "# In plain numbers :\n",
    "0.2 * .99\n",
    "\n",
    "#####################################\n",
    "# For both full sibs with 0.99\n",
    "y = [.99 .99]'\n",
    "EU_y = [0 0]'  + G * V_ * y\n",
    "# (Will not work with MME)\n",
    "```"
   ]
  }
 ],
 "metadata": {
  "kernelspec": {
   "display_name": "Julia 1.8.0-DEV",
   "language": "julia",
   "name": "julia-1.8"
  },
  "language_info": {
   "file_extension": ".jl",
   "mimetype": "application/julia",
   "name": "julia",
   "version": "1.8.0"
  }
 },
 "nbformat": 4,
 "nbformat_minor": 5
}
