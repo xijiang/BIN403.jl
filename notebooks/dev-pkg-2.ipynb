{
 "cells": [
  {
   "cell_type": "markdown",
   "id": "historic-million",
   "metadata": {},
   "source": [
    "# How to develop a Julia package\n",
    "\n",
    "The previous notebook (`dev-pkg-1.ipynb`) describes how to develop a Julia package from zero.  In the future, you will soon want to develop a package based on some other packages.  This is where `git fork` comes into place.\n",
    "\n",
    "Suppose one is to develop/finish the assignments of this `BIN403` course, you can go to `https://github.com/xijiang/BIN403.jl`, and click the `fork` button.  The package `BIN403.jl` will appear in your github repos.  You can then clone this repo onto your own computer for development.\n",
    "\n",
    "When the package/assigments were written in other languages, you can follow my instructions in `dev-pkg-1.ipynb`:\n",
    "- generate a locate julia package\n",
    "- initiate a git repo for this package\n",
    "- commit the changes\n",
    "- set origin to the remote github repo, which was forked from other repo.\n",
    "- pull the remote."
   ]
  }
 ],
 "metadata": {
  "kernelspec": {
   "display_name": "Julia 1.8.0-DEV",
   "language": "julia",
   "name": "julia-1.8"
  },
  "language_info": {
   "file_extension": ".jl",
   "mimetype": "application/julia",
   "name": "julia",
   "version": "1.8.0"
  }
 },
 "nbformat": 4,
 "nbformat_minor": 5
}
