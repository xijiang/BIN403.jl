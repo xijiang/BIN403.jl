{
 "cells": [
  {
   "cell_type": "markdown",
   "id": "documented-thesaurus",
   "metadata": {},
   "source": [
    "# Something you better known before using Julia\n",
    "\n",
    "## Why Julia?\n",
    "\n",
    "There are many reasons to use Julia. I think the most significant one is it solved the **Two Language Problem\". That is, to write Julia codes is as easy as Python. The runtime speed of Julia codes is usually as fast as C/Fortran.\n",
    "\n",
    "Julia is also very close to natural mathematical language. For example, let $\\mathbf{M}$ be a sqaure matrix, then `M'M` is just the Julia code to time transposed $\\mathbf{M}$ and $\\mathbf{M}$.\n",
    "\n",
    "There are of course more reasons to use Julia, which I can't list them here.\n",
    "\n",
    "Using Julia also has some cons. For example, you have to spend time to learn. As a young language, its libraries can be limited, for example, to compare with the statistical language R, and the general purpose language Python.\n",
    "\n",
    "I have used many languages, e.g, R, Python, Fortran, C, C++, Bash, to name a few. Julia is a way of no turning back to me."
   ]
  },
  {
   "cell_type": "markdown",
   "id": "prostate-navigation",
   "metadata": {},
   "source": [
    "## How to install Julia\n",
    "\n",
    "There are at least 3 ways to install Julia on your computers.\n",
    "\n",
    "### Windows, Mac\n",
    "You can download an appropriate version of Julia form [its homepage](https://julialang.org/downloads/).\n",
    "\n",
    "### Install from command line\n",
    "This is suitable for various Nix OS, and Windows WSL. In a command prompt:\n",
    "```bash\n",
    "git clone https://github.com/JuliaLang/julia\n",
    "cd julia\n",
    "# If you just want a released version, e.g., v1.6.2 to date\n",
    "# git checkout v1.6.2\n",
    "make -j 8 # depends on how many threads your CPU can provides\n",
    "```\n",
    "\n",
    "### From Linux Repo\n",
    "Depends on the Linux distributions, e.g., on Fedora:\n",
    "```bash\n",
    "#sudo copr enalbe nalimilan/julia\n",
    "sudo dnf install julia\n",
    "```"
   ]
  },
  {
   "cell_type": "markdown",
   "id": "variable-beatles",
   "metadata": {},
   "source": [
    "## Markdown\n",
    "`Markdown` is a lightweight `markup` language. It is simple, as you can learn it in less than 10 minutes. Yet it is powerful. You can structure your document with 1-6 level titles that start with 1-6 `#`s, as you have seen in this notebook.\n",
    "\n",
    "### List\n",
    "What you type:\n",
    "```markdown\n",
    "- item a\n",
    "- item b\n",
    "```\n",
    "What you see:\n",
    "- item a\n",
    "- item b\n",
    "\n",
    "Or,\n",
    "```markdown\n",
    "1. item 1\n",
    "2. item 2\n",
    "```\n",
    "You get\n",
    "1. item 1\n",
    "2. item 2\n",
    "\n",
    "\n",
    "### Table\n",
    "```markdown\n",
    "| Col-title | column a | column b |\n",
    "| --: | :--: | :-- |\n",
    "| hello | 15 | 30 |\n",
    "```\n",
    "| Col-title | column a | column b |\n",
    "| --: | :--: | :-- |\n",
    "| hello | 15 | 30 |\n"
   ]
  },
  {
   "cell_type": "markdown",
   "id": "accomplished-probability",
   "metadata": {},
   "source": [
    "### Text emphasis\n",
    "```markdown\n",
    "*Italic*, **Bold**, ***Bold and italic***\n",
    "```\n",
    "*Italic*, **Bold**, ***Bold and italic***\n",
    "\n",
    "### Quote\n",
    "```markdown\n",
    "> To be, or not to be\n",
    "```\n",
    "> To be, or not to be\n",
    "\n",
    "### Codes\n",
    "You have seen how to quote markdown codes above. You can include many different languages in your markdown codes. For example,\n",
    "\n",
    "```julia\n",
    "A = rand(10, 10)\n",
    "B = A'A   # to demonstrate GEMM\n",
    "```\n",
    "\n",
    "### Equations\n",
    "```latex\n",
    "$$e^{i\\pi} + 1 = 0$$\n",
    "```\n",
    "$e^{i\\pi} + 1 = 0$\n",
    "\n",
    "### To include a picture\n",
    "```markdown\n",
    "![A picture from NMBU](https://www.nmbu.no/sites/default/files/styles/banner_landscape/public/nmbu-054462.jpg?itok=ShjhhfkM)\n",
    "```\n",
    "![A picture from NMBU](https://www.nmbu.no/sites/default/files/styles/banner_landscape/public/nmbu-054462.jpg?itok=ShjhhfkM)\n",
    "\n",
    "### One more tip\n",
    "You can use `<!-- some comments -->` in your markdown to note why you changed your document. The comments won't appear in you target documents, e.g., pdf, docx.\n",
    "\n",
    "### To include a link\n",
    "```markdown\n",
    "Refer [markdown website](https://www.markdownguide.org/) for more information\n",
    "```\n",
    "Refer [markdown website](https://www.markdownguide.org/) for more information\n"
   ]
  },
  {
   "cell_type": "markdown",
   "id": "painted-buffer",
   "metadata": {},
   "source": [
    "### Convert markdown to other formats\n",
    "For example, if you have a markdown file `my.md`,\n",
    "```bash\n",
    "pandoc -o my.pdf my.md  # to convert it to a pdf file\n",
    "pandoc -o my.docx my.md # to convert it to msoffice docx file\n",
    "pandoc -t beamer -o my.pdf my.md # to convert it slides\n",
    "# and many more\n",
    "```"
   ]
  },
  {
   "cell_type": "markdown",
   "id": "mighty-event",
   "metadata": {},
   "source": [
    "### Function helps\n",
    "Markdown is also used for help documents of julia functions. See the demonstration below:"
   ]
  },
  {
   "cell_type": "code",
   "execution_count": 4,
   "id": "designed-compact",
   "metadata": {},
   "outputs": [
    {
     "data": {
      "text/plain": [
       "hello"
      ]
     },
     "execution_count": 4,
     "metadata": {},
     "output_type": "execute_result"
    }
   ],
   "source": [
    "\"\"\"\n",
    "    function hello()\n",
    "---\n",
    "## Objective\n",
    "To demonstrate\n",
    "- how to write a julia function\n",
    "- how to write documents of a function\n",
    "\n",
    "## Usage\n",
    "In a julia REPL, type `?hello` to see these texts\n",
    "\"\"\"\n",
    "function hello()\n",
    "    println(\"Hello, BIN403\")\n",
    "end"
   ]
  },
  {
   "cell_type": "code",
   "execution_count": 5,
   "id": "controversial-edition",
   "metadata": {},
   "outputs": [
    {
     "name": "stdout",
     "output_type": "stream",
     "text": [
      "search: \u001b[0m\u001b[1mh\u001b[22m\u001b[0m\u001b[1me\u001b[22m\u001b[0m\u001b[1ml\u001b[22m\u001b[0m\u001b[1ml\u001b[22m\u001b[0m\u001b[1mo\u001b[22m @t\u001b[0m\u001b[1mh\u001b[22mr\u001b[0m\u001b[1me\u001b[22madca\u001b[0m\u001b[1ml\u001b[22m\u001b[0m\u001b[1ml\u001b[22m\n",
      "\n"
     ]
    },
    {
     "data": {
      "text/latex": [
       "\\begin{verbatim}\n",
       "function hello()\n",
       "\\end{verbatim}\n",
       "\\rule{\\textwidth}{1pt}\n",
       "\\subsection{Objective}\n",
       "To demonstrate\n",
       "\n",
       "\\begin{itemize}\n",
       "\\item how to write a julia function\n",
       "\n",
       "\n",
       "\\item how to write documents of a function\n",
       "\n",
       "\\end{itemize}\n",
       "\\subsection{Usage}\n",
       "In a julia REPL, type \\texttt{?hello} to see these texts\n",
       "\n"
      ],
      "text/markdown": [
       "```\n",
       "function hello()\n",
       "```\n",
       "\n",
       "---\n",
       "\n",
       "## Objective\n",
       "\n",
       "To demonstrate\n",
       "\n",
       "  * how to write a julia function\n",
       "  * how to write documents of a function\n",
       "\n",
       "## Usage\n",
       "\n",
       "In a julia REPL, type `?hello` to see these texts\n"
      ],
      "text/plain": [
       "\u001b[36m  function hello()\u001b[39m\n",
       "\n",
       "  ────────────────────────────────────────────────────────────────────────────\n",
       "\n",
       "\u001b[1m  Objective\u001b[22m\n",
       "\u001b[1m  ===========\u001b[22m\n",
       "\n",
       "  To demonstrate\n",
       "\n",
       "    •  how to write a julia function\n",
       "\n",
       "    •  how to write documents of a function\n",
       "\n",
       "\u001b[1m  Usage\u001b[22m\n",
       "\u001b[1m  =======\u001b[22m\n",
       "\n",
       "  In a julia REPL, type \u001b[36m?hello\u001b[39m to see these texts"
      ]
     },
     "execution_count": 5,
     "metadata": {},
     "output_type": "execute_result"
    }
   ],
   "source": [
    "?hello"
   ]
  },
  {
   "cell_type": "markdown",
   "id": "qualified-office",
   "metadata": {},
   "source": [
    "## git\n",
    "Linus Torvalds created Linux OS. He also invented a distributed version control system `git`. We will use more and more `git` commands later. Below is my personal setup for my `git` envrionment:\n",
    "```bash\n",
    "git config --global user.name \"Xijiang Yu\"\n",
    "git config --global user.email xijiang@users.noreply.github.com\n",
    "# git commit --amend --reset-author\n",
    "git config --global core.editor emacs # if you like Emacs more, default vi\n",
    "git config --global merge.tool meld\n",
    "git config --global alias.ss 'status -s'\n",
    "git config --global alias.lg \"log --color --graph --pretty=format:'%Cred%h%Creset -%C(yellow)%d%Creset %s %Cgreen(%cr) %C(bold blue)<%an>%Creset' --abbrev-commit --branches\"\n",
    "git config --global init.defaultBranch main\n",
    "# git config --global color.ui true  # for CentOS version\n",
    "# for nbdime\n",
    "pip install --user --upgrade nbdime\n",
    "jupyter-serverextension enable --py nbdime --user\n",
    "nbdime config-git --enable --global\n",
    "# git config --list  # to see the current configurations\n",
    "```"
   ]
  },
  {
   "cell_type": "markdown",
   "id": "short-genesis",
   "metadata": {},
   "source": [
    "## Julia packages\n",
    "Julia group modules and functions in different packages. The notebook you see now comes from a julia package called `BIN403`. You can install this package:\n",
    "```julia\n",
    "]\n",
    "install https://github.com/xijiang/BIN403\n",
    "```\n",
    "You can then use functions provides by this package.\n",
    "\n",
    "In the next notebook, I will show how to realize the assumed knowns for BIN403 with julia."
   ]
  },
  {
   "cell_type": "markdown",
   "id": "several-representative",
   "metadata": {},
   "source": [
    "## Jupyterlab for Julia\n",
    "```julia\n",
    "]\n",
    "install IJulia\n",
    "<backspace>\n",
    "using IJulia # you don't have to run above 3 lines after a package is installed\n",
    "jupyterlab() # The notebook will automatically start in your browser\n",
    "```"
   ]
  }
 ],
 "metadata": {
  "kernelspec": {
   "display_name": "Julia 1.8.0-DEV",
   "language": "julia",
   "name": "julia-1.8"
  },
  "language_info": {
   "file_extension": ".jl",
   "mimetype": "application/julia",
   "name": "julia",
   "version": "1.8.0"
  }
 },
 "nbformat": 4,
 "nbformat_minor": 5
}
