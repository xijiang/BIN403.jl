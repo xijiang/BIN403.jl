{
 "cells": [
  {
   "cell_type": "markdown",
   "id": "stainless-ancient",
   "metadata": {},
   "source": [
    "# A demonstration of ML with R"
   ]
  },
  {
   "cell_type": "code",
   "execution_count": 2,
   "id": "motivated-facing",
   "metadata": {},
   "outputs": [],
   "source": [
    "y = c(11, 7, 12)"
   ]
  },
  {
   "cell_type": "code",
   "execution_count": 3,
   "id": "prospective-flexibility",
   "metadata": {},
   "outputs": [],
   "source": [
    "m = mean(y)"
   ]
  },
  {
   "cell_type": "code",
   "execution_count": 4,
   "id": "collaborative-christmas",
   "metadata": {},
   "outputs": [],
   "source": [
    "s = sd(y)"
   ]
  },
  {
   "cell_type": "code",
   "execution_count": 5,
   "id": "lesser-jefferson",
   "metadata": {},
   "outputs": [],
   "source": [
    "x = seq(m-1, m+1, .01)"
   ]
  },
  {
   "cell_type": "code",
   "execution_count": 7,
   "id": "standing-rates",
   "metadata": {},
   "outputs": [],
   "source": [
    "y = seq(s-1, s+1, .01)"
   ]
  },
  {
   "cell_type": "code",
   "execution_count": 6,
   "id": "flexible-bunny",
   "metadata": {},
   "outputs": [],
   "source": [
    "mu = rep(x, each = length(y))"
   ]
  },
  {
   "cell_type": "code",
   "execution_count": 8,
   "id": "careful-deadline",
   "metadata": {},
   "outputs": [],
   "source": [
    "sigma = rep(y, times = length(x))"
   ]
  },
  {
   "cell_type": "code",
   "execution_count": 9,
   "id": "juvenile-living",
   "metadata": {},
   "outputs": [],
   "source": [
    "pd = vector(mode=\"numeric\", length = length(mu))"
   ]
  },
  {
   "cell_type": "code",
   "execution_count": 11,
   "id": "curious-failing",
   "metadata": {},
   "outputs": [],
   "source": [
    "for (i in length(mu))\n",
    "    pd[i] = prod(y, mean=mu[i], sd=sigma[i])"
   ]
  },
  {
   "cell_type": "code",
   "execution_count": 14,
   "id": "beneficial-idaho",
   "metadata": {},
   "outputs": [],
   "source": [
    "library(plot3D)"
   ]
  },
  {
   "cell_type": "code",
   "execution_count": 15,
   "id": "dying-sequence",
   "metadata": {},
   "outputs": [
    {
     "ename": "ERROR",
     "evalue": "Error in surf3D(mu, sigma, pd): 'x' should be a matrix\n",
     "output_type": "error",
     "traceback": [
      "Error in surf3D(mu, sigma, pd): 'x' should be a matrix\nTraceback:\n",
      "1. surf3D(mu, sigma, pd)",
      "2. stop(\"'x' should be a matrix\")"
     ]
    }
   ],
   "source": [
    "surf3D(mu, sigma, pd)"
   ]
  },
  {
   "cell_type": "code",
   "execution_count": null,
   "id": "personal-denial",
   "metadata": {},
   "outputs": [],
   "source": []
  }
 ],
 "metadata": {
  "kernelspec": {
   "display_name": "R",
   "language": "R",
   "name": "ir"
  },
  "language_info": {
   "codemirror_mode": "r",
   "file_extension": ".r",
   "mimetype": "text/x-r-source",
   "name": "R",
   "pygments_lexer": "r",
   "version": "4.0.5"
  }
 },
 "nbformat": 4,
 "nbformat_minor": 5
}
