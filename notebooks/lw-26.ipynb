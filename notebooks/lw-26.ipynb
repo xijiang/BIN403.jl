{
 "cells": [
  {
   "cell_type": "markdown",
   "id": "competent-skating",
   "metadata": {},
   "source": [
    "## Estimation of Breeding Values\n",
    "\n",
    "A notebook of Lynch & Walsh (1996), chapter 26. This notebook only takes the example part. Or, it mainly serves as another illustration of Julia usage.\n",
    "\n",
    "For the general mixed model:\n",
    "\n",
    "$\\mathbf{y}_{n\\times 1} = \\mathbf{X}_{n\\times p}\\beta_{p\\times 1}+\\mathbf{Z}_{n\\times q}\\mathbf{u}_{q\\times 1}+\\mathbf{e}_{n\\times 1}$\n",
    "\n",
    "$\\mathbf{X}_{n\\times p}$ and $\\mathbf{Z}_{n\\times q}$ are incidence matrices. $\\mathbf{X}_{n\\times p}$ is also called design matrix.\n",
    "\n",
    "### Example 1\n",
    "| Daughter | Sire | Environment | Phenotype|\n",
    "| :--: | --: | :--: | --: |\n",
    "| 1 | 1 | 1 | 9 |\n",
    "| 2 | 1 | 2 | 12 |\n",
    "| 3 | 2 | 1 | 11 |\n",
    "| 4 | 2 | 1 | 6 |\n",
    "| 5 | 3 | 1 | 7 |\n",
    "| 6 | 3 | 2 | 14 |\n",
    "\n",
    "We will use `DataFrames` package to deal with the raw data."
   ]
  },
  {
   "cell_type": "code",
   "execution_count": 1,
   "id": "driven-russia",
   "metadata": {},
   "outputs": [],
   "source": [
    "using DataFrames, LinearAlgebra"
   ]
  },
  {
   "cell_type": "code",
   "execution_count": 7,
   "id": "continental-peace",
   "metadata": {},
   "outputs": [
    {
     "data": {
      "text/html": [
       "<div class=\"data-frame\"><p>6 rows × 4 columns</p><table class=\"data-frame\"><thead><tr><th></th><th>daughter</th><th>sire</th><th>environment</th><th>phenotype</th></tr><tr><th></th><th title=\"Int64\">Int64</th><th title=\"Int64\">Int64</th><th title=\"Int64\">Int64</th><th title=\"Int64\">Int64</th></tr></thead><tbody><tr><th>1</th><td>1</td><td>1</td><td>1</td><td>9</td></tr><tr><th>2</th><td>2</td><td>1</td><td>2</td><td>12</td></tr><tr><th>3</th><td>3</td><td>2</td><td>1</td><td>11</td></tr><tr><th>4</th><td>4</td><td>2</td><td>1</td><td>6</td></tr><tr><th>5</th><td>5</td><td>3</td><td>1</td><td>7</td></tr><tr><th>6</th><td>6</td><td>3</td><td>2</td><td>14</td></tr></tbody></table></div>"
      ],
      "text/latex": [
       "\\begin{tabular}{r|cccc}\n",
       "\t& daughter & sire & environment & phenotype\\\\\n",
       "\t\\hline\n",
       "\t& Int64 & Int64 & Int64 & Int64\\\\\n",
       "\t\\hline\n",
       "\t1 & 1 & 1 & 1 & 9 \\\\\n",
       "\t2 & 2 & 1 & 2 & 12 \\\\\n",
       "\t3 & 3 & 2 & 1 & 11 \\\\\n",
       "\t4 & 4 & 2 & 1 & 6 \\\\\n",
       "\t5 & 5 & 3 & 1 & 7 \\\\\n",
       "\t6 & 6 & 3 & 2 & 14 \\\\\n",
       "\\end{tabular}\n"
      ],
      "text/plain": [
       "\u001b[1m6×4 DataFrame\u001b[0m\n",
       "\u001b[1m Row \u001b[0m│\u001b[1m daughter \u001b[0m\u001b[1m sire  \u001b[0m\u001b[1m environment \u001b[0m\u001b[1m phenotype \u001b[0m\n",
       "\u001b[1m     \u001b[0m│\u001b[90m Int64    \u001b[0m\u001b[90m Int64 \u001b[0m\u001b[90m Int64       \u001b[0m\u001b[90m Int64     \u001b[0m\n",
       "─────┼─────────────────────────────────────────\n",
       "   1 │        1      1            1          9\n",
       "   2 │        2      1            2         12\n",
       "   3 │        3      2            1         11\n",
       "   4 │        4      2            1          6\n",
       "   5 │        5      3            1          7\n",
       "   6 │        6      3            2         14"
      ]
     },
     "execution_count": 7,
     "metadata": {},
     "output_type": "execute_result"
    }
   ],
   "source": [
    "df = DataFrame(daughter=1:6, \n",
    "    sire = [1, 1, 2, 2, 3, 3], \n",
    "    environment=[1,2,1,1,1,2], \n",
    "    phenotype = [9, 12, 11, 6, 7, 14])"
   ]
  },
  {
   "cell_type": "markdown",
   "id": "suburban-recovery",
   "metadata": {},
   "source": [
    "Because the data is very simple, we can directly write the incidence matrices, e.g.,\n",
    "$X=\\begin{bmatrix}1 & 0\\\\0 & 1\\\\1 & 0\\\\1 & 0\\\\1 & 0\\\\0 & 1\\end{bmatrix}$. The construction of an incidence matrix can be generalized with a function. We will put it in the end of this notebook to avoid to get into too much details in the beginning."
   ]
  },
  {
   "cell_type": "code",
   "execution_count": 5,
   "id": "perfect-copyright",
   "metadata": {},
   "outputs": [
    {
     "data": {
      "text/plain": [
       "6×2 Matrix{Int64}:\n",
       " 1  0\n",
       " 0  1\n",
       " 1  0\n",
       " 1  0\n",
       " 1  0\n",
       " 0  1"
      ]
     },
     "execution_count": 5,
     "metadata": {},
     "output_type": "execute_result"
    }
   ],
   "source": [
    "X = [1 0\n",
    "    0 1\n",
    "    1 0\n",
    "    1 0\n",
    "    1 0\n",
    "    0 1]"
   ]
  },
  {
   "cell_type": "code",
   "execution_count": 6,
   "id": "bigger-laser",
   "metadata": {},
   "outputs": [
    {
     "data": {
      "text/plain": [
       "6×3 Matrix{Int64}:\n",
       " 1  0  0\n",
       " 1  0  0\n",
       " 0  1  0\n",
       " 0  1  0\n",
       " 0  0  1\n",
       " 0  0  1"
      ]
     },
     "execution_count": 6,
     "metadata": {},
     "output_type": "execute_result"
    }
   ],
   "source": [
    "Z = [ 1 0 0\n",
    "    1 0 0\n",
    "    0 1 0\n",
    "    0 1 0\n",
    "    0 0 1\n",
    "    0 0 1]"
   ]
  },
  {
   "cell_type": "markdown",
   "id": "finite-bridal",
   "metadata": {},
   "source": [
    "And we have effects that are to be estimated/predicted. $\\beta=\\begin{bmatrix}\\beta_1\\\\\\beta_2\\end{bmatrix}$, and $\\mathbf{u}=\\begin{bmatrix}u_1\\\\ u_2\\\\ u_3\\end{bmatrix}$.\n",
    "\n",
    "The brute force way to estimation and prediction of $\\beta$ and $\\mathbf{u}$ in a mixed model are:\n",
    "\n",
    "$\\hat{\\beta} = \\left(\\mathbf{X}'\\mathbf{V}^{-1}\\mathbf{X}\\right)^{-1}\\mathbf{X}'\\mathbf{V}^{-1}\\mathbf{y}$\n",
    "\n",
    "and\n",
    "\n",
    "$\\hat{\\mathbf{u}}=\\mathbf{GZ}'\\mathbf{V}^{-1}(\\mathbf{y-X}\\hat{\\beta})$"
   ]
  },
  {
   "cell_type": "markdown",
   "id": "persistent-tobacco",
   "metadata": {},
   "source": [
    "It is assummed that the variance components are known in this chapter.\n",
    "\n",
    "$\\mathbf{R}=\\sigma_E^2\\mathbf{I}$,\n",
    "\n",
    "and \n",
    "\n",
    "$\\mathbf{G} = \\sigma_S^2\\mathbf{I}=\\frac{\\sigma_A^2}4\\mathbf{I}$\n",
    "\n",
    "We have $\\sigma_E^2=6$, and $\\sigma_A^2=8$"
   ]
  },
  {
   "cell_type": "code",
   "execution_count": 8,
   "id": "prescribed-concord",
   "metadata": {},
   "outputs": [
    {
     "data": {
      "text/plain": [
       "UniformScaling{Float64}\n",
       "2.0*I"
      ]
     },
     "execution_count": 8,
     "metadata": {},
     "output_type": "execute_result"
    }
   ],
   "source": [
    "G = 8/4 * I"
   ]
  },
  {
   "cell_type": "code",
   "execution_count": 9,
   "id": "parliamentary-statement",
   "metadata": {},
   "outputs": [
    {
     "data": {
      "text/plain": [
       "UniformScaling{Int64}\n",
       "6*I"
      ]
     },
     "execution_count": 9,
     "metadata": {},
     "output_type": "execute_result"
    }
   ],
   "source": [
    "R = 6I"
   ]
  },
  {
   "cell_type": "code",
   "execution_count": 10,
   "id": "metropolitan-matrix",
   "metadata": {},
   "outputs": [
    {
     "data": {
      "text/plain": [
       "6×6 Matrix{Float64}:\n",
       " 8.0  2.0  0.0  0.0  0.0  0.0\n",
       " 2.0  8.0  0.0  0.0  0.0  0.0\n",
       " 0.0  0.0  8.0  2.0  0.0  0.0\n",
       " 0.0  0.0  2.0  8.0  0.0  0.0\n",
       " 0.0  0.0  0.0  0.0  8.0  2.0\n",
       " 0.0  0.0  0.0  0.0  2.0  8.0"
      ]
     },
     "execution_count": 10,
     "metadata": {},
     "output_type": "execute_result"
    }
   ],
   "source": [
    "V = Z * G * Z' + R"
   ]
  },
  {
   "cell_type": "code",
   "execution_count": 11,
   "id": "massive-effects",
   "metadata": {},
   "outputs": [
    {
     "data": {
      "text/plain": [
       "6×6 Matrix{Float64}:\n",
       "  0.133333   -0.0333333   0.0        -0.0         0.0        -0.0\n",
       " -0.0333333   0.133333    0.0        -0.0         0.0        -0.0\n",
       "  0.0         0.0         0.133333   -0.0333333   0.0        -0.0\n",
       "  0.0         0.0        -0.0333333   0.133333    0.0        -0.0\n",
       "  0.0         0.0         0.0         0.0         0.133333   -0.0333333\n",
       "  0.0         0.0         0.0         0.0        -0.0333333   0.133333"
      ]
     },
     "execution_count": 11,
     "metadata": {},
     "output_type": "execute_result"
    }
   ],
   "source": [
    "Vⁱ = inv(V)"
   ]
  },
  {
   "cell_type": "code",
   "execution_count": 14,
   "id": "fewer-minneapolis",
   "metadata": {},
   "outputs": [
    {
     "data": {
      "text/plain": [
       "6-element Vector{Int64}:\n",
       "  9\n",
       " 12\n",
       " 11\n",
       "  6\n",
       "  7\n",
       " 14"
      ]
     },
     "execution_count": 14,
     "metadata": {},
     "output_type": "execute_result"
    }
   ],
   "source": [
    "y = [9, 12, 11, 6, 7, 14]"
   ]
  },
  {
   "cell_type": "code",
   "execution_count": 15,
   "id": "subtle-tunnel",
   "metadata": {},
   "outputs": [
    {
     "data": {
      "text/plain": [
       "2-element Vector{Float64}:\n",
       "  8.222222222222221\n",
       " 13.055555555555557"
      ]
     },
     "execution_count": 15,
     "metadata": {},
     "output_type": "execute_result"
    }
   ],
   "source": [
    "bhat = (X'Vⁱ * X) \\ (X'Vⁱ * y)"
   ]
  },
  {
   "cell_type": "code",
   "execution_count": 16,
   "id": "functioning-instruction",
   "metadata": {},
   "outputs": [
    {
     "data": {
      "text/plain": [
       "3-element Vector{Float64}:\n",
       " -0.05555555555555572\n",
       "  0.11111111111111138\n",
       " -0.05555555555555572"
      ]
     },
     "execution_count": 16,
     "metadata": {},
     "output_type": "execute_result"
    }
   ],
   "source": [
    "uhat = G * Z'Vⁱ*(y - X*bhat)"
   ]
  },
  {
   "cell_type": "markdown",
   "id": "elementary-tackle",
   "metadata": {},
   "source": [
    "### A summary of example 1\n",
    "\n",
    "We can see that matrix manipulations very very straightforward with Julia. Before Julia 1.4, the first run of a Julia function is slow, especially plotting. It had even a special name, TTFP (time to first plot). Now this is very much improved. Since Julia 1.6, the precompilation of packages are parallized. Julia is still a fast evolving language. So are its packages. R pacakges have the same phenomena. There is a joke about R users. Most R users never update their packages after first installation.\n",
    "\n",
    "Note, I also showed the explanation in markdown languages. To know more of markdown, you can refer my other notebook: `beforeJulia.ipynb`.\n",
    "\n",
    "In the demonstration below, we will try to do the calculation with MME(mixed-model equations), that is:\n",
    "\n",
    "$\\begin{bmatrix}\\mathbf{X}'\\mathbf{R}^{-1}\\mathbf{X} & \\mathbf{X}'\\mathbf{R}^{-1}\\mathbf{Z}\\\\\n",
    "\\mathbf{Z}'\\mathbf{R}^{-1}\\mathbf{X} & \\mathbf{Z}'\\mathbf{R}^{-1}\\mathbf{Z}+\\mathbf{G}^{-1}\\end{bmatrix}\n",
    "\\begin{bmatrix}\\hat{\\beta}\\\\ \\hat{\\mathbf{u}}\\end{bmatrix} = \n",
    "\\begin{bmatrix}\\mathbf{X}'\\mathbf{R}^{-1}\\mathbf{y}\\\\ \\mathbf{Z}'\\mathbf{R}^{-1}\\mathbf{y}\\end{bmatrix}$"
   ]
  },
  {
   "cell_type": "code",
   "execution_count": 18,
   "id": "voluntary-logistics",
   "metadata": {},
   "outputs": [
    {
     "data": {
      "text/plain": [
       "UniformScaling{Float64}\n",
       "0.16666666666666666*I"
      ]
     },
     "execution_count": 18,
     "metadata": {},
     "output_type": "execute_result"
    }
   ],
   "source": [
    "Rⁱ = inv(R)"
   ]
  },
  {
   "cell_type": "code",
   "execution_count": 19,
   "id": "returning-renewal",
   "metadata": {},
   "outputs": [
    {
     "data": {
      "text/plain": [
       "UniformScaling{Float64}\n",
       "0.5*I"
      ]
     },
     "execution_count": 19,
     "metadata": {},
     "output_type": "execute_result"
    }
   ],
   "source": [
    "Gⁱ = inv(G)"
   ]
  },
  {
   "cell_type": "code",
   "execution_count": 20,
   "id": "impaired-chinese",
   "metadata": {},
   "outputs": [
    {
     "data": {
      "text/plain": [
       "5×5 Matrix{Float64}:\n",
       " 0.666667  0.0       0.166667  0.333333  0.166667\n",
       " 0.0       0.333333  0.166667  0.0       0.166667\n",
       " 0.166667  0.166667  0.833333  0.0       0.0\n",
       " 0.333333  0.0       0.0       0.833333  0.0\n",
       " 0.166667  0.166667  0.0       0.0       0.833333"
      ]
     },
     "execution_count": 20,
     "metadata": {},
     "output_type": "execute_result"
    }
   ],
   "source": [
    "lhs = [X'Rⁱ * X X'Rⁱ * Z\n",
    "       Z'Rⁱ * X Z'Rⁱ * Z + Gⁱ]"
   ]
  },
  {
   "cell_type": "code",
   "execution_count": 22,
   "id": "color-nicaragua",
   "metadata": {},
   "outputs": [
    {
     "data": {
      "text/plain": [
       "5-element Vector{Float64}:\n",
       " 5.5\n",
       " 4.333333333333333\n",
       " 3.5\n",
       " 2.833333333333333\n",
       " 3.4999999999999996"
      ]
     },
     "execution_count": 22,
     "metadata": {},
     "output_type": "execute_result"
    }
   ],
   "source": [
    "rhs = [X'Rⁱ * y\n",
    "    Z'Rⁱ * y]"
   ]
  },
  {
   "cell_type": "code",
   "execution_count": 23,
   "id": "backed-london",
   "metadata": {},
   "outputs": [
    {
     "data": {
      "text/plain": [
       "5-element Vector{Float64}:\n",
       "  8.222222222222223\n",
       " 13.055555555555557\n",
       " -0.0555555555555555\n",
       "  0.11111111111111063\n",
       " -0.05555555555555602"
      ]
     },
     "execution_count": 23,
     "metadata": {},
     "output_type": "execute_result"
    }
   ],
   "source": [
    "lhs \\ rhs"
   ]
  },
  {
   "cell_type": "code",
   "execution_count": null,
   "id": "chubby-ambassador",
   "metadata": {},
   "outputs": [],
   "source": []
  }
 ],
 "metadata": {
  "kernelspec": {
   "display_name": "Julia 1.8.0-DEV",
   "language": "julia",
   "name": "julia-1.8"
  },
  "language_info": {
   "file_extension": ".jl",
   "mimetype": "application/julia",
   "name": "julia",
   "version": "1.8.0"
  }
 },
 "nbformat": 4,
 "nbformat_minor": 5
}
